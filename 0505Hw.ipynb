class numberinfo: #class=類別， 就像是動物園這個大集合 裡面有各種動物(def) 裡面的東西都與class有關聯
    
    def __init__(self,a,b): #這是程式宣告初始化的起手式，代表宣告時會自動執行的函式
        self.a = a
        self.b = b
    def compare(self): #自行定義功能1.比大小
        if(self.a>self.b):
            print("a > b")
        elif(self.a<self.b):
            print("a < b")
        else:
            print("a = b")
    def plus(self): #自行定義功能2.相加
        print("a + b =",end=" ")
        print(self.a+self.b) 
    def answer(self): #自行定義功能3.計算
        print("第一個數=",end=" ") #end 不換行
        print(self.a,)
        print("第二個數=",end=" ") #end 不換行
        print(self.b)
n1=int(input("給我一個數:"))#int()為輸入數字
n2=int(input("再給我一個數:"))
solution = numberinfo(n1,n2) #設定solution=在class裡面執行的兩個數(n1,n2)
solution.compare() #.compare=執行在compare的這個動作
solution.plus()
solution.answer()
